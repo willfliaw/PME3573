{
 "cells": [
  {
   "attachments": {},
   "cell_type": "markdown",
   "metadata": {},
   "source": [
    "Autor: William Liaw (11834011 - [willfliaw@usp.br](mailto:willfliaw@usp.br))\n",
    "\n",
    "Relatório acadêmico apresentado à Escola Politécnica da Universidade de São Paulo como atividade da Disciplina Introdução à Ciência de Dados para Engenheiros (PME3573)."
   ]
  },
  {
   "attachments": {},
   "cell_type": "markdown",
   "metadata": {},
   "source": [
    "# Descrição dos bancos de dados\n",
    "\n",
    "Os bancos de dados a serem analisados no presente Relatório podem ser encontrados em [Dados Abertos | Governo do Estado de São Paulo](https://www.saopaulo.sp.gov.br/planosp/simi/dados-abertos/)."
   ]
  },
  {
   "attachments": {},
   "cell_type": "markdown",
   "metadata": {},
   "source": [
    "## Casos e óbitos por município e data\n",
    "\n",
    "Registro de casos e óbitos por município e data de notificação no Estado de São Paulo.\n",
    "\n",
    "| Arquivo                                         | Descrição                                             |\n",
    "|:-----------------------------------------------:|:-----------------------------------------------------:|\n",
    "| `./data/20230418_Casos-e-obitos-ESP.csv`        | `./metadata/Dic.-dados_dados_covid_municipios_sp.pdf` |\n",
    "\n",
    "Ao longo deste trabalho, apelidará-se este banco de dados de **COMuDa**."
   ]
  },
  {
   "attachments": {},
   "cell_type": "markdown",
   "metadata": {},
   "source": [
    "## Microdados dos casos\n",
    "\n",
    "Base de dados com registros individualizados e anonimizados, detalhados com os seguintes campos: Notificações, Evolução, Confirmação do caso para COVID-19, Idade, Gênero, Doenças Preexistentes, Sintomas, Raça/Cor, Etnia, Município, Profissionais de Saúde.\n",
    "\n",
    "| Arquivo                                         | Descrição                             |\n",
    "|:-----------------------------------------------:|:-------------------------------------:|\n",
    "| `./data/20230418_dados_covid_municipios_sp.csv` | `./metadata/Dic-dados_microdados.pdf` |\n",
    "\n",
    "Ao longo deste trabalho, apelidará-se este banco de dados de **MiCa**."
   ]
  },
  {
   "attachments": {},
   "cell_type": "markdown",
   "metadata": {},
   "source": [
    "# Configurações de ambiente"
   ]
  },
  {
   "attachments": {},
   "cell_type": "markdown",
   "metadata": {},
   "source": [
    "## Estrutura do diretório\n",
    "\n",
    "- `data`\n",
    "  - `20230418_Casos_e_obitos_ESP.csv`\n",
    "  - `20230418_dados_covid_municipios_sp-1.csv`\n",
    "- `metadata`\n",
    "  - `Dic-dados_microdados.pdf`\n",
    "  - `Dic.-dados_dados_covid_municipios_sp.pdf`\n",
    "- `E01 - Fluxo de Informação.pdf`\n",
    "- `Exercício 1.ipynb`\n",
    "- `README.md`"
   ]
  },
  {
   "attachments": {},
   "cell_type": "markdown",
   "metadata": {},
   "source": [
    "## Importando bibliotecas"
   ]
  },
  {
   "cell_type": "code",
   "execution_count": null,
   "metadata": {},
   "outputs": [],
   "source": [
    "import numpy as np\n",
    "import pandas as pd\n",
    "import matplotlib.pyplot as plt\n",
    "import scienceplots\n",
    "\n",
    "%matplotlib inline\n",
    "\n",
    "plt.style.use([\"science\", \"ieee\"])"
   ]
  },
  {
   "attachments": {},
   "cell_type": "markdown",
   "metadata": {},
   "source": [
    "# Observações iniciais"
   ]
  },
  {
   "attachments": {},
   "cell_type": "markdown",
   "metadata": {},
   "source": [
    "## COMuDa"
   ]
  },
  {
   "cell_type": "code",
   "execution_count": null,
   "metadata": {},
   "outputs": [],
   "source": [
    "dataCases = pd.read_csv(\"./data/20230418_dados_covid_municipios_sp-1.csv\", sep = \";\", decimal = \",\", parse_dates = [\"datahora\"])"
   ]
  },
  {
   "cell_type": "code",
   "execution_count": null,
   "metadata": {},
   "outputs": [],
   "source": [
    "dataCases[\"nome_munic\"] = dataCases[\"nome_munic\"].replace(\"Ignorado\", np.NaN)\n",
    "dataCases[\"codigo_ibge\"] = dataCases[\"codigo_ibge\"].replace(9999999, np.NaN).astype(\"Int64\")"
   ]
  },
  {
   "cell_type": "code",
   "execution_count": null,
   "metadata": {},
   "outputs": [],
   "source": [
    "dataCases.info()"
   ]
  },
  {
   "cell_type": "code",
   "execution_count": null,
   "metadata": {},
   "outputs": [],
   "source": [
    "dataCases.dtypes"
   ]
  },
  {
   "attachments": {},
   "cell_type": "markdown",
   "metadata": {},
   "source": [
    "Nota-se que, por mais que na descrição de COMuDa estejam presentes a descrição de 31 atributos diferentes, tem-se no arquivo `csv` apenas 11 atributos diferentes: \n",
    "\n",
    "| Coluna          | Atributo                                        |\n",
    "|:---------------:|:-----------------------------------------------:|\n",
    "| `nome_munic`    | Nome do município                               |\n",
    "| `codigo_ibge`   | Código do município no IBGE (7 dígitos)         |\n",
    "| `datahora`      | Data no formato YYYY-MM-DD                      |\n",
    "| `casos`         | Casos totais registrados até a data             |\n",
    "| `casos_novos`   | Casos novos registrados na data                 |\n",
    "| `casos_mm7d`    | Média móvel dos últimos 7 dias dos novos casos  |\n",
    "| `obitos`        | Óbitos totais registrados até a data            |\n",
    "| `obitos_novos`  | Óbitos novos registrados na data                |\n",
    "| `obitos_mm7d`   | Média móvel dos últimos 7 dias dos novos óbitos |\n",
    "| `pop`           | População Estimada (fonte SEADE)                |\n",
    "| `semana_epidem` | Semana Epidemológica                            |"
   ]
  },
  {
   "cell_type": "code",
   "execution_count": null,
   "metadata": {},
   "outputs": [],
   "source": [
    "dataCases.describe()"
   ]
  },
  {
   "cell_type": "code",
   "execution_count": null,
   "metadata": {},
   "outputs": [],
   "source": [
    "dataCases.describe(include = object)"
   ]
  },
  {
   "cell_type": "code",
   "execution_count": null,
   "metadata": {},
   "outputs": [],
   "source": [
    "list(dataCases[\"nome_munic\"].value_counts().unique())"
   ]
  },
  {
   "attachments": {},
   "cell_type": "markdown",
   "metadata": {},
   "source": [
    "Nota-se, pela célula acima, que todos os $ 645 $ municípios diferentes apresentam $ 1148 $ ocorrências."
   ]
  },
  {
   "cell_type": "code",
   "execution_count": null,
   "metadata": {},
   "outputs": [],
   "source": [
    "dataCases.head(10)"
   ]
  },
  {
   "attachments": {},
   "cell_type": "markdown",
   "metadata": {},
   "source": [
    "## MiCa"
   ]
  },
  {
   "cell_type": "code",
   "execution_count": null,
   "metadata": {},
   "outputs": [],
   "source": [
    "dataMicrodata = pd.read_csv(\"./data/20230418_Casos_e_obitos_ESP.csv\", sep = \";\", parse_dates = [\"Data_Inicio_Sintomas\"], dayfirst = True)"
   ]
  },
  {
   "cell_type": "code",
   "execution_count": null,
   "metadata": {},
   "outputs": [],
   "source": [
    "dataMicrodata = dataMicrodata.replace(\"IGNORADO\", np.NaN)\n",
    "dataMicrodata[\"Obito\"] = dataMicrodata[\"Obito\"].replace({1: \"SIM\", 0: \"NÃO\"})\n",
    "# dataMicrodata[\"Idade\"] = dataMicrodata[\"Idade\"].astype(\"Int64\")"
   ]
  },
  {
   "cell_type": "code",
   "execution_count": null,
   "metadata": {},
   "outputs": [],
   "source": [
    "dataMicrodata.info(show_counts = True)"
   ]
  },
  {
   "cell_type": "code",
   "execution_count": null,
   "metadata": {},
   "outputs": [],
   "source": [
    "dataMicrodata.describe()"
   ]
  },
  {
   "cell_type": "code",
   "execution_count": null,
   "metadata": {},
   "outputs": [],
   "source": [
    "dataMicrodata.describe(include = object)"
   ]
  },
  {
   "cell_type": "code",
   "execution_count": null,
   "metadata": {},
   "outputs": [],
   "source": [
    "dataMicrodata.head(10)"
   ]
  },
  {
   "attachments": {},
   "cell_type": "markdown",
   "metadata": {},
   "source": [
    "Observações..."
   ]
  },
  {
   "attachments": {},
   "cell_type": "markdown",
   "metadata": {},
   "source": [
    "- https://builtin.com/data-science/how-to-use-sql-python\n",
    "- https://pandas.pydata.org/pandas-docs/stable/reference/api/pandas.DataFrame.to_sql.html\n",
    "\n",
    "```julia\n",
    "df.to_sql()\n",
    "```"
   ]
  },
  {
   "attachments": {},
   "cell_type": "markdown",
   "metadata": {},
   "source": [
    "# Limpeza de dados"
   ]
  },
  {
   "attachments": {},
   "cell_type": "markdown",
   "metadata": {},
   "source": [
    "## Considerações finais"
   ]
  },
  {
   "attachments": {},
   "cell_type": "markdown",
   "metadata": {},
   "source": [
    "# Análise de dados"
   ]
  }
 ],
 "metadata": {
  "kernelspec": {
   "display_name": "dataScience",
   "language": "python",
   "name": "python3"
  },
  "language_info": {
   "codemirror_mode": {
    "name": "ipython",
    "version": 3
   },
   "file_extension": ".py",
   "mimetype": "text/x-python",
   "name": "python",
   "nbconvert_exporter": "python",
   "pygments_lexer": "ipython3",
   "version": "3.11.3"
  },
  "orig_nbformat": 4
 },
 "nbformat": 4,
 "nbformat_minor": 2
}
