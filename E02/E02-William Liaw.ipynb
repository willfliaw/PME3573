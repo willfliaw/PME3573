{
 "cells": [
  {
   "attachments": {},
   "cell_type": "markdown",
   "metadata": {},
   "source": [
    "Autor: William Liaw ([@willfliaw](https://github.com/willfliaw), NUSP: 11834011).\n",
    "\n",
    "Relatório acadêmico apresentado à Escola Politécnica da Universidade de São Paulo como atividade da Disciplina Introdução à Ciência de Dados para Engenheiros (PME3573).\n",
    "\n",
    "Este documento é componente da atividade [E02 - BH-3 Ensaio de decaimento em ar](https://github.com/willfliaw/PME3573/tree/main/E02), do repositório [PME3573](https://github.com/willfliaw/PME3573/). Recomenda-se a leitura dos arquivos `README.md` do repositório, e `README.md` específico da atividade, para melhor noção do contexto em que se insere este trabalho acadêmico, dentre outros detalhes preliminares. Além disso, **recomenda-se fortemente** a leitura deste documento em sua versão `.ipynb`, no [GitHub](https://github.com/willfliaw/PME3573/blob/main/E02/E02-William%20Liaw.ipynb), uma vez que lá é possível visualizar em melhor definição as tabelas e gráficos.\n",
    "\n",
    "Nas seções seguintes, pode-se examinar o código utilizado para a tabulação dos dados."
   ]
  },
  {
   "attachments": {},
   "cell_type": "markdown",
   "metadata": {},
   "source": [
    "# Dados experimentais"
   ]
  },
  {
   "attachments": {},
   "cell_type": "markdown",
   "metadata": {},
   "source": [
    "| Arquivo                                         |\n",
    "|:-----------------------------------------------:|\n",
    "| `./dataBH3/BH_03_AIR_1.csv`                        |\n",
    "\n",
    "Ao longo deste trabalho, apelidará-se este banco de dados de **BH3**."
   ]
  },
  {
   "attachments": {},
   "cell_type": "markdown",
   "metadata": {},
   "source": [
    "# Configurações de ambiente"
   ]
  },
  {
   "attachments": {},
   "cell_type": "markdown",
   "metadata": {},
   "source": [
    "## Estrutura do diretório"
   ]
  },
  {
   "attachments": {},
   "cell_type": "markdown",
   "metadata": {},
   "source": [
    "Antes de executar quaisquer células de código, a estrutura do diretório é como a seguir:\n",
    "\n",
    "```\n",
    "E02/\n",
    "├── data/\n",
    "│   └── BH_03_AIR_1.csv\n",
    "├── E02 - BH-3 Ensaio de decaimento em ar.pdf\n",
    "├── E02-William Liaw.ipynb\n",
    "├── E02-William Liaw.pdf\n",
    "└── README.md\n",
    "```"
   ]
  },
  {
   "attachments": {},
   "cell_type": "markdown",
   "metadata": {},
   "source": [
    "## Importando bibliotecas"
   ]
  },
  {
   "cell_type": "code",
   "execution_count": 1,
   "metadata": {
    "vscode": {
     "languageId": "r"
    }
   },
   "outputs": [],
   "source": [
    "options(tidyverse.quiet = TRUE)\n",
    "library(ggplot2)\n",
    "library(pls, warn.conflicts = FALSE)"
   ]
  },
  {
   "attachments": {},
   "cell_type": "markdown",
   "metadata": {},
   "source": [
    "## Leitura de dados"
   ]
  },
  {
   "cell_type": "code",
   "execution_count": 2,
   "metadata": {
    "vscode": {
     "languageId": "r"
    }
   },
   "outputs": [],
   "source": [
    "dataBH3 <- read.table(\"./data/BH_03_AIR_1.csv\", header = TRUE, sep = \"\\t\")"
   ]
  },
  {
   "cell_type": "markdown",
   "metadata": {},
   "source": [
    "## Hiperparâmetros"
   ]
  },
  {
   "cell_type": "code",
   "execution_count": 3,
   "metadata": {
    "vscode": {
     "languageId": "r"
    }
   },
   "outputs": [],
   "source": [
    "frames.forward = 20"
   ]
  },
  {
   "attachments": {},
   "cell_type": "markdown",
   "metadata": {},
   "source": [
    "# Análise preliminar"
   ]
  },
  {
   "cell_type": "code",
   "execution_count": 4,
   "metadata": {
    "vscode": {
     "languageId": "r"
    }
   },
   "outputs": [
    {
     "data": {
      "text/html": [
       "<table class=\"dataframe\">\n",
       "<caption>A data.frame: 6 × 188</caption>\n",
       "<thead>\n",
       "\t<tr><th></th><th scope=col>Frame</th><th scope=col>Time</th><th scope=col>A01.X</th><th scope=col>A01.Y</th><th scope=col>A01.Z</th><th scope=col>A02.X</th><th scope=col>A02.Y</th><th scope=col>A02.Z</th><th scope=col>A03.X</th><th scope=col>A03.Y</th><th scope=col>...</th><th scope=col>M56.Z</th><th scope=col>L01.X</th><th scope=col>L01.Y</th><th scope=col>L01.Z</th><th scope=col>L02.X</th><th scope=col>L02.Y</th><th scope=col>L02.Z</th><th scope=col>L03.X</th><th scope=col>L03.Y</th><th scope=col>L03.Z</th></tr>\n",
       "\t<tr><th></th><th scope=col>&lt;int&gt;</th><th scope=col>&lt;dbl&gt;</th><th scope=col>&lt;dbl&gt;</th><th scope=col>&lt;dbl&gt;</th><th scope=col>&lt;dbl&gt;</th><th scope=col>&lt;dbl&gt;</th><th scope=col>&lt;dbl&gt;</th><th scope=col>&lt;dbl&gt;</th><th scope=col>&lt;dbl&gt;</th><th scope=col>&lt;dbl&gt;</th><th scope=col>...</th><th scope=col>&lt;dbl&gt;</th><th scope=col>&lt;dbl&gt;</th><th scope=col>&lt;dbl&gt;</th><th scope=col>&lt;dbl&gt;</th><th scope=col>&lt;dbl&gt;</th><th scope=col>&lt;dbl&gt;</th><th scope=col>&lt;dbl&gt;</th><th scope=col>&lt;dbl&gt;</th><th scope=col>&lt;dbl&gt;</th><th scope=col>&lt;dbl&gt;</th></tr>\n",
       "</thead>\n",
       "<tbody>\n",
       "\t<tr><th scope=row>1</th><td>1</td><td>0.00</td><td>322.989</td><td>-187.229</td><td>-2600.661</td><td>324.028</td><td>-188.155</td><td>-2556.975</td><td>324.272</td><td>-189.057</td><td>...</td><td>299.587</td><td>266.659</td><td>-223.609</td><td>358.285</td><td>244.941</td><td>-228.247</td><td>438.436</td><td>232.766</td><td>-231.119</td><td>519.751</td></tr>\n",
       "\t<tr><th scope=row>2</th><td>2</td><td>0.01</td><td>322.893</td><td>-187.220</td><td>-2600.629</td><td>324.130</td><td>-188.167</td><td>-2557.007</td><td>324.204</td><td>-189.037</td><td>...</td><td>301.286</td><td>271.653</td><td>-222.588</td><td>359.928</td><td>244.789</td><td>-228.289</td><td>438.395</td><td>227.291</td><td>-232.160</td><td>517.794</td></tr>\n",
       "\t<tr><th scope=row>3</th><td>3</td><td>0.02</td><td>323.079</td><td>-187.218</td><td>-2600.665</td><td>324.068</td><td>-188.240</td><td>-2556.994</td><td>324.320</td><td>-189.019</td><td>...</td><td>301.301</td><td>271.648</td><td>-222.613</td><td>359.926</td><td>244.647</td><td>-228.288</td><td>438.371</td><td>227.202</td><td>-232.180</td><td>517.791</td></tr>\n",
       "\t<tr><th scope=row>4</th><td>4</td><td>0.03</td><td>322.884</td><td>-187.219</td><td>-2600.632</td><td>324.176</td><td>-188.111</td><td>-2557.008</td><td>324.331</td><td>-189.020</td><td>...</td><td>301.267</td><td>271.645</td><td>-222.571</td><td>359.931</td><td>250.474</td><td>-227.275</td><td>440.166</td><td>232.759</td><td>-231.136</td><td>519.737</td></tr>\n",
       "\t<tr><th scope=row>5</th><td>5</td><td>0.04</td><td>322.653</td><td>-187.326</td><td>-2600.813</td><td>324.009</td><td>-188.237</td><td>-2557.238</td><td>324.259</td><td>-189.157</td><td>...</td><td>301.101</td><td>271.360</td><td>-222.680</td><td>359.714</td><td>250.106</td><td>-227.439</td><td>439.887</td><td>232.597</td><td>-231.252</td><td>519.511</td></tr>\n",
       "\t<tr><th scope=row>6</th><td>6</td><td>0.05</td><td>322.525</td><td>-187.361</td><td>-2600.855</td><td>323.760</td><td>-188.271</td><td>-2557.213</td><td>324.024</td><td>-189.174</td><td>...</td><td>301.027</td><td>271.367</td><td>-222.743</td><td>359.648</td><td>250.049</td><td>-227.444</td><td>439.850</td><td>232.396</td><td>-231.306</td><td>519.412</td></tr>\n",
       "</tbody>\n",
       "</table>\n"
      ],
      "text/latex": [
       "A data.frame: 6 × 188\n",
       "\\begin{tabular}{r|lllllllllllllllllllll}\n",
       "  & Frame & Time & A01.X & A01.Y & A01.Z & A02.X & A02.Y & A02.Z & A03.X & A03.Y & ... & M56.Z & L01.X & L01.Y & L01.Z & L02.X & L02.Y & L02.Z & L03.X & L03.Y & L03.Z\\\\\n",
       "  & <int> & <dbl> & <dbl> & <dbl> & <dbl> & <dbl> & <dbl> & <dbl> & <dbl> & <dbl> & ... & <dbl> & <dbl> & <dbl> & <dbl> & <dbl> & <dbl> & <dbl> & <dbl> & <dbl> & <dbl>\\\\\n",
       "\\hline\n",
       "\t1 & 1 & 0.00 & 322.989 & -187.229 & -2600.661 & 324.028 & -188.155 & -2556.975 & 324.272 & -189.057 & ... & 299.587 & 266.659 & -223.609 & 358.285 & 244.941 & -228.247 & 438.436 & 232.766 & -231.119 & 519.751\\\\\n",
       "\t2 & 2 & 0.01 & 322.893 & -187.220 & -2600.629 & 324.130 & -188.167 & -2557.007 & 324.204 & -189.037 & ... & 301.286 & 271.653 & -222.588 & 359.928 & 244.789 & -228.289 & 438.395 & 227.291 & -232.160 & 517.794\\\\\n",
       "\t3 & 3 & 0.02 & 323.079 & -187.218 & -2600.665 & 324.068 & -188.240 & -2556.994 & 324.320 & -189.019 & ... & 301.301 & 271.648 & -222.613 & 359.926 & 244.647 & -228.288 & 438.371 & 227.202 & -232.180 & 517.791\\\\\n",
       "\t4 & 4 & 0.03 & 322.884 & -187.219 & -2600.632 & 324.176 & -188.111 & -2557.008 & 324.331 & -189.020 & ... & 301.267 & 271.645 & -222.571 & 359.931 & 250.474 & -227.275 & 440.166 & 232.759 & -231.136 & 519.737\\\\\n",
       "\t5 & 5 & 0.04 & 322.653 & -187.326 & -2600.813 & 324.009 & -188.237 & -2557.238 & 324.259 & -189.157 & ... & 301.101 & 271.360 & -222.680 & 359.714 & 250.106 & -227.439 & 439.887 & 232.597 & -231.252 & 519.511\\\\\n",
       "\t6 & 6 & 0.05 & 322.525 & -187.361 & -2600.855 & 323.760 & -188.271 & -2557.213 & 324.024 & -189.174 & ... & 301.027 & 271.367 & -222.743 & 359.648 & 250.049 & -227.444 & 439.850 & 232.396 & -231.306 & 519.412\\\\\n",
       "\\end{tabular}\n"
      ],
      "text/markdown": [
       "\n",
       "A data.frame: 6 × 188\n",
       "\n",
       "| <!--/--> | Frame &lt;int&gt; | Time &lt;dbl&gt; | A01.X &lt;dbl&gt; | A01.Y &lt;dbl&gt; | A01.Z &lt;dbl&gt; | A02.X &lt;dbl&gt; | A02.Y &lt;dbl&gt; | A02.Z &lt;dbl&gt; | A03.X &lt;dbl&gt; | A03.Y &lt;dbl&gt; | ... ... | M56.Z &lt;dbl&gt; | L01.X &lt;dbl&gt; | L01.Y &lt;dbl&gt; | L01.Z &lt;dbl&gt; | L02.X &lt;dbl&gt; | L02.Y &lt;dbl&gt; | L02.Z &lt;dbl&gt; | L03.X &lt;dbl&gt; | L03.Y &lt;dbl&gt; | L03.Z &lt;dbl&gt; |\n",
       "|---|---|---|---|---|---|---|---|---|---|---|---|---|---|---|---|---|---|---|---|---|---|\n",
       "| 1 | 1 | 0.00 | 322.989 | -187.229 | -2600.661 | 324.028 | -188.155 | -2556.975 | 324.272 | -189.057 | ... | 299.587 | 266.659 | -223.609 | 358.285 | 244.941 | -228.247 | 438.436 | 232.766 | -231.119 | 519.751 |\n",
       "| 2 | 2 | 0.01 | 322.893 | -187.220 | -2600.629 | 324.130 | -188.167 | -2557.007 | 324.204 | -189.037 | ... | 301.286 | 271.653 | -222.588 | 359.928 | 244.789 | -228.289 | 438.395 | 227.291 | -232.160 | 517.794 |\n",
       "| 3 | 3 | 0.02 | 323.079 | -187.218 | -2600.665 | 324.068 | -188.240 | -2556.994 | 324.320 | -189.019 | ... | 301.301 | 271.648 | -222.613 | 359.926 | 244.647 | -228.288 | 438.371 | 227.202 | -232.180 | 517.791 |\n",
       "| 4 | 4 | 0.03 | 322.884 | -187.219 | -2600.632 | 324.176 | -188.111 | -2557.008 | 324.331 | -189.020 | ... | 301.267 | 271.645 | -222.571 | 359.931 | 250.474 | -227.275 | 440.166 | 232.759 | -231.136 | 519.737 |\n",
       "| 5 | 5 | 0.04 | 322.653 | -187.326 | -2600.813 | 324.009 | -188.237 | -2557.238 | 324.259 | -189.157 | ... | 301.101 | 271.360 | -222.680 | 359.714 | 250.106 | -227.439 | 439.887 | 232.597 | -231.252 | 519.511 |\n",
       "| 6 | 6 | 0.05 | 322.525 | -187.361 | -2600.855 | 323.760 | -188.271 | -2557.213 | 324.024 | -189.174 | ... | 301.027 | 271.367 | -222.743 | 359.648 | 250.049 | -227.444 | 439.850 | 232.396 | -231.306 | 519.412 |\n",
       "\n"
      ],
      "text/plain": [
       "  Frame Time A01.X   A01.Y    A01.Z     A02.X   A02.Y    A02.Z     A03.X  \n",
       "1 1     0.00 322.989 -187.229 -2600.661 324.028 -188.155 -2556.975 324.272\n",
       "2 2     0.01 322.893 -187.220 -2600.629 324.130 -188.167 -2557.007 324.204\n",
       "3 3     0.02 323.079 -187.218 -2600.665 324.068 -188.240 -2556.994 324.320\n",
       "4 4     0.03 322.884 -187.219 -2600.632 324.176 -188.111 -2557.008 324.331\n",
       "5 5     0.04 322.653 -187.326 -2600.813 324.009 -188.237 -2557.238 324.259\n",
       "6 6     0.05 322.525 -187.361 -2600.855 323.760 -188.271 -2557.213 324.024\n",
       "  A03.Y    ... M56.Z   L01.X   L01.Y    L01.Z   L02.X   L02.Y    L02.Z  \n",
       "1 -189.057 ... 299.587 266.659 -223.609 358.285 244.941 -228.247 438.436\n",
       "2 -189.037 ... 301.286 271.653 -222.588 359.928 244.789 -228.289 438.395\n",
       "3 -189.019 ... 301.301 271.648 -222.613 359.926 244.647 -228.288 438.371\n",
       "4 -189.020 ... 301.267 271.645 -222.571 359.931 250.474 -227.275 440.166\n",
       "5 -189.157 ... 301.101 271.360 -222.680 359.714 250.106 -227.439 439.887\n",
       "6 -189.174 ... 301.027 271.367 -222.743 359.648 250.049 -227.444 439.850\n",
       "  L03.X   L03.Y    L03.Z  \n",
       "1 232.766 -231.119 519.751\n",
       "2 227.291 -232.160 517.794\n",
       "3 227.202 -232.180 517.791\n",
       "4 232.759 -231.136 519.737\n",
       "5 232.597 -231.252 519.511\n",
       "6 232.396 -231.306 519.412"
      ]
     },
     "metadata": {},
     "output_type": "display_data"
    }
   ],
   "source": [
    "head(dataBH3)"
   ]
  },
  {
   "cell_type": "code",
   "execution_count": 5,
   "metadata": {
    "vscode": {
     "languageId": "r"
    }
   },
   "outputs": [
    {
     "data": {
      "text/html": [
       "'data.frame'"
      ],
      "text/latex": [
       "'data.frame'"
      ],
      "text/markdown": [
       "'data.frame'"
      ],
      "text/plain": [
       "[1] \"data.frame\""
      ]
     },
     "metadata": {},
     "output_type": "display_data"
    }
   ],
   "source": [
    "class(dataBH3)"
   ]
  },
  {
   "cell_type": "code",
   "execution_count": 6,
   "metadata": {
    "vscode": {
     "languageId": "r"
    }
   },
   "outputs": [
    {
     "data": {
      "text/html": [
       "<style>\n",
       ".list-inline {list-style: none; margin:0; padding: 0}\n",
       ".list-inline>li {display: inline-block}\n",
       ".list-inline>li:not(:last-child)::after {content: \"\\00b7\"; padding: 0 .5ex}\n",
       "</style>\n",
       "<ol class=list-inline><li>'Frame'</li><li>'Time'</li><li>'A01.X'</li><li>'A01.Y'</li><li>'A01.Z'</li><li>'A02.X'</li><li>'A02.Y'</li><li>'A02.Z'</li><li>'A03.X'</li><li>'A03.Y'</li><li>'A03.Z'</li><li>'M01.X'</li><li>'M01.Y'</li><li>'M01.Z'</li><li>'M02.X'</li><li>'M02.Y'</li><li>'M02.Z'</li><li>'M03.X'</li><li>'M03.Y'</li><li>'M03.Z'</li><li>'M04.X'</li><li>'M04.Y'</li><li>'M04.Z'</li><li>'M05.X'</li><li>'M05.Y'</li><li>'M05.Z'</li><li>'M06.X'</li><li>'M06.Y'</li><li>'M06.Z'</li><li>'M07.X'</li><li>'M07.Y'</li><li>'M07.Z'</li><li>'M08.X'</li><li>'M08.Y'</li><li>'M08.Z'</li><li>'M09.X'</li><li>'M09.Y'</li><li>'M09.Z'</li><li>'M10.X'</li><li>'M10.Y'</li><li>'M10.Z'</li><li>'M11.X'</li><li>'M11.Y'</li><li>'M11.Z'</li><li>'M12.X'</li><li>'M12.Y'</li><li>'M12.Z'</li><li>'M13.X'</li><li>'M13.Y'</li><li>'M13.Z'</li><li>'M14.X'</li><li>'M14.Y'</li><li>'M14.Z'</li><li>'M15.X'</li><li>'M15.Y'</li><li>'M15.Z'</li><li>'M16.X'</li><li>'M16.Y'</li><li>'M16.Z'</li><li>'M17.X'</li><li>'M17.Y'</li><li>'M17.Z'</li><li>'M18.X'</li><li>'M18.Y'</li><li>'M18.Z'</li><li>'M19.X'</li><li>'M19.Y'</li><li>'M19.Z'</li><li>'M20.X'</li><li>'M20.Y'</li><li>'M20.Z'</li><li>'M21.X'</li><li>'M21.Y'</li><li>'M21.Z'</li><li>'M22.X'</li><li>'M22.Y'</li><li>'M22.Z'</li><li>'M23.X'</li><li>'M23.Y'</li><li>'M23.Z'</li><li>'M24.X'</li><li>'M24.Y'</li><li>'M24.Z'</li><li>'M25.X'</li><li>'M25.Y'</li><li>'M25.Z'</li><li>'M26.X'</li><li>'M26.Y'</li><li>'M26.Z'</li><li>'M27.X'</li><li>'M27.Y'</li><li>'M27.Z'</li><li>'M28.X'</li><li>'M28.Y'</li><li>'M28.Z'</li><li>'M29.X'</li><li>'M29.Y'</li><li>'M29.Z'</li><li>'M30.X'</li><li>'M30.Y'</li><li>'M30.Z'</li><li>'M31.X'</li><li>'M31.Y'</li><li>'M31.Z'</li><li>'M32.X'</li><li>'M32.Y'</li><li>'M32.Z'</li><li>'M33.X'</li><li>'M33.Y'</li><li>'M33.Z'</li><li>'M34.X'</li><li>'M34.Y'</li><li>'M34.Z'</li><li>'M35.X'</li><li>'M35.Y'</li><li>'M35.Z'</li><li>'M36.X'</li><li>'M36.Y'</li><li>'M36.Z'</li><li>'M37.X'</li><li>'M37.Y'</li><li>'M37.Z'</li><li>'M38.X'</li><li>'M38.Y'</li><li>'M38.Z'</li><li>'M39.X'</li><li>'M39.Y'</li><li>'M39.Z'</li><li>'M40.X'</li><li>'M40.Y'</li><li>'M40.Z'</li><li>'M41.X'</li><li>'M41.Y'</li><li>'M41.Z'</li><li>'M42.X'</li><li>'M42.Y'</li><li>'M42.Z'</li><li>'M43.X'</li><li>'M43.Y'</li><li>'M43.Z'</li><li>'M44.X'</li><li>'M44.Y'</li><li>'M44.Z'</li><li>'M45.X'</li><li>'M45.Y'</li><li>'M45.Z'</li><li>'M46.X'</li><li>'M46.Y'</li><li>'M46.Z'</li><li>'M47.X'</li><li>'M47.Y'</li><li>'M47.Z'</li><li>'M48.X'</li><li>'M48.Y'</li><li>'M48.Z'</li><li>'M49.X'</li><li>'M49.Y'</li><li>'M49.Z'</li><li>'M50.X'</li><li>'M50.Y'</li><li>'M50.Z'</li><li>'M51.X'</li><li>'M51.Y'</li><li>'M51.Z'</li><li>'M52.X'</li><li>'M52.Y'</li><li>'M52.Z'</li><li>'M53.X'</li><li>'M53.Y'</li><li>'M53.Z'</li><li>'M54.X'</li><li>'M54.Y'</li><li>'M54.Z'</li><li>'M55.X'</li><li>'M55.Y'</li><li>'M55.Z'</li><li>'M56.X'</li><li>'M56.Y'</li><li>'M56.Z'</li><li>'L01.X'</li><li>'L01.Y'</li><li>'L01.Z'</li><li>'L02.X'</li><li>'L02.Y'</li><li>'L02.Z'</li><li>'L03.X'</li><li>'L03.Y'</li><li>'L03.Z'</li></ol>\n"
      ],
      "text/latex": [
       "\\begin{enumerate*}\n",
       "\\item 'Frame'\n",
       "\\item 'Time'\n",
       "\\item 'A01.X'\n",
       "\\item 'A01.Y'\n",
       "\\item 'A01.Z'\n",
       "\\item 'A02.X'\n",
       "\\item 'A02.Y'\n",
       "\\item 'A02.Z'\n",
       "\\item 'A03.X'\n",
       "\\item 'A03.Y'\n",
       "\\item 'A03.Z'\n",
       "\\item 'M01.X'\n",
       "\\item 'M01.Y'\n",
       "\\item 'M01.Z'\n",
       "\\item 'M02.X'\n",
       "\\item 'M02.Y'\n",
       "\\item 'M02.Z'\n",
       "\\item 'M03.X'\n",
       "\\item 'M03.Y'\n",
       "\\item 'M03.Z'\n",
       "\\item 'M04.X'\n",
       "\\item 'M04.Y'\n",
       "\\item 'M04.Z'\n",
       "\\item 'M05.X'\n",
       "\\item 'M05.Y'\n",
       "\\item 'M05.Z'\n",
       "\\item 'M06.X'\n",
       "\\item 'M06.Y'\n",
       "\\item 'M06.Z'\n",
       "\\item 'M07.X'\n",
       "\\item 'M07.Y'\n",
       "\\item 'M07.Z'\n",
       "\\item 'M08.X'\n",
       "\\item 'M08.Y'\n",
       "\\item 'M08.Z'\n",
       "\\item 'M09.X'\n",
       "\\item 'M09.Y'\n",
       "\\item 'M09.Z'\n",
       "\\item 'M10.X'\n",
       "\\item 'M10.Y'\n",
       "\\item 'M10.Z'\n",
       "\\item 'M11.X'\n",
       "\\item 'M11.Y'\n",
       "\\item 'M11.Z'\n",
       "\\item 'M12.X'\n",
       "\\item 'M12.Y'\n",
       "\\item 'M12.Z'\n",
       "\\item 'M13.X'\n",
       "\\item 'M13.Y'\n",
       "\\item 'M13.Z'\n",
       "\\item 'M14.X'\n",
       "\\item 'M14.Y'\n",
       "\\item 'M14.Z'\n",
       "\\item 'M15.X'\n",
       "\\item 'M15.Y'\n",
       "\\item 'M15.Z'\n",
       "\\item 'M16.X'\n",
       "\\item 'M16.Y'\n",
       "\\item 'M16.Z'\n",
       "\\item 'M17.X'\n",
       "\\item 'M17.Y'\n",
       "\\item 'M17.Z'\n",
       "\\item 'M18.X'\n",
       "\\item 'M18.Y'\n",
       "\\item 'M18.Z'\n",
       "\\item 'M19.X'\n",
       "\\item 'M19.Y'\n",
       "\\item 'M19.Z'\n",
       "\\item 'M20.X'\n",
       "\\item 'M20.Y'\n",
       "\\item 'M20.Z'\n",
       "\\item 'M21.X'\n",
       "\\item 'M21.Y'\n",
       "\\item 'M21.Z'\n",
       "\\item 'M22.X'\n",
       "\\item 'M22.Y'\n",
       "\\item 'M22.Z'\n",
       "\\item 'M23.X'\n",
       "\\item 'M23.Y'\n",
       "\\item 'M23.Z'\n",
       "\\item 'M24.X'\n",
       "\\item 'M24.Y'\n",
       "\\item 'M24.Z'\n",
       "\\item 'M25.X'\n",
       "\\item 'M25.Y'\n",
       "\\item 'M25.Z'\n",
       "\\item 'M26.X'\n",
       "\\item 'M26.Y'\n",
       "\\item 'M26.Z'\n",
       "\\item 'M27.X'\n",
       "\\item 'M27.Y'\n",
       "\\item 'M27.Z'\n",
       "\\item 'M28.X'\n",
       "\\item 'M28.Y'\n",
       "\\item 'M28.Z'\n",
       "\\item 'M29.X'\n",
       "\\item 'M29.Y'\n",
       "\\item 'M29.Z'\n",
       "\\item 'M30.X'\n",
       "\\item 'M30.Y'\n",
       "\\item 'M30.Z'\n",
       "\\item 'M31.X'\n",
       "\\item 'M31.Y'\n",
       "\\item 'M31.Z'\n",
       "\\item 'M32.X'\n",
       "\\item 'M32.Y'\n",
       "\\item 'M32.Z'\n",
       "\\item 'M33.X'\n",
       "\\item 'M33.Y'\n",
       "\\item 'M33.Z'\n",
       "\\item 'M34.X'\n",
       "\\item 'M34.Y'\n",
       "\\item 'M34.Z'\n",
       "\\item 'M35.X'\n",
       "\\item 'M35.Y'\n",
       "\\item 'M35.Z'\n",
       "\\item 'M36.X'\n",
       "\\item 'M36.Y'\n",
       "\\item 'M36.Z'\n",
       "\\item 'M37.X'\n",
       "\\item 'M37.Y'\n",
       "\\item 'M37.Z'\n",
       "\\item 'M38.X'\n",
       "\\item 'M38.Y'\n",
       "\\item 'M38.Z'\n",
       "\\item 'M39.X'\n",
       "\\item 'M39.Y'\n",
       "\\item 'M39.Z'\n",
       "\\item 'M40.X'\n",
       "\\item 'M40.Y'\n",
       "\\item 'M40.Z'\n",
       "\\item 'M41.X'\n",
       "\\item 'M41.Y'\n",
       "\\item 'M41.Z'\n",
       "\\item 'M42.X'\n",
       "\\item 'M42.Y'\n",
       "\\item 'M42.Z'\n",
       "\\item 'M43.X'\n",
       "\\item 'M43.Y'\n",
       "\\item 'M43.Z'\n",
       "\\item 'M44.X'\n",
       "\\item 'M44.Y'\n",
       "\\item 'M44.Z'\n",
       "\\item 'M45.X'\n",
       "\\item 'M45.Y'\n",
       "\\item 'M45.Z'\n",
       "\\item 'M46.X'\n",
       "\\item 'M46.Y'\n",
       "\\item 'M46.Z'\n",
       "\\item 'M47.X'\n",
       "\\item 'M47.Y'\n",
       "\\item 'M47.Z'\n",
       "\\item 'M48.X'\n",
       "\\item 'M48.Y'\n",
       "\\item 'M48.Z'\n",
       "\\item 'M49.X'\n",
       "\\item 'M49.Y'\n",
       "\\item 'M49.Z'\n",
       "\\item 'M50.X'\n",
       "\\item 'M50.Y'\n",
       "\\item 'M50.Z'\n",
       "\\item 'M51.X'\n",
       "\\item 'M51.Y'\n",
       "\\item 'M51.Z'\n",
       "\\item 'M52.X'\n",
       "\\item 'M52.Y'\n",
       "\\item 'M52.Z'\n",
       "\\item 'M53.X'\n",
       "\\item 'M53.Y'\n",
       "\\item 'M53.Z'\n",
       "\\item 'M54.X'\n",
       "\\item 'M54.Y'\n",
       "\\item 'M54.Z'\n",
       "\\item 'M55.X'\n",
       "\\item 'M55.Y'\n",
       "\\item 'M55.Z'\n",
       "\\item 'M56.X'\n",
       "\\item 'M56.Y'\n",
       "\\item 'M56.Z'\n",
       "\\item 'L01.X'\n",
       "\\item 'L01.Y'\n",
       "\\item 'L01.Z'\n",
       "\\item 'L02.X'\n",
       "\\item 'L02.Y'\n",
       "\\item 'L02.Z'\n",
       "\\item 'L03.X'\n",
       "\\item 'L03.Y'\n",
       "\\item 'L03.Z'\n",
       "\\end{enumerate*}\n"
      ],
      "text/markdown": [
       "1. 'Frame'\n",
       "2. 'Time'\n",
       "3. 'A01.X'\n",
       "4. 'A01.Y'\n",
       "5. 'A01.Z'\n",
       "6. 'A02.X'\n",
       "7. 'A02.Y'\n",
       "8. 'A02.Z'\n",
       "9. 'A03.X'\n",
       "10. 'A03.Y'\n",
       "11. 'A03.Z'\n",
       "12. 'M01.X'\n",
       "13. 'M01.Y'\n",
       "14. 'M01.Z'\n",
       "15. 'M02.X'\n",
       "16. 'M02.Y'\n",
       "17. 'M02.Z'\n",
       "18. 'M03.X'\n",
       "19. 'M03.Y'\n",
       "20. 'M03.Z'\n",
       "21. 'M04.X'\n",
       "22. 'M04.Y'\n",
       "23. 'M04.Z'\n",
       "24. 'M05.X'\n",
       "25. 'M05.Y'\n",
       "26. 'M05.Z'\n",
       "27. 'M06.X'\n",
       "28. 'M06.Y'\n",
       "29. 'M06.Z'\n",
       "30. 'M07.X'\n",
       "31. 'M07.Y'\n",
       "32. 'M07.Z'\n",
       "33. 'M08.X'\n",
       "34. 'M08.Y'\n",
       "35. 'M08.Z'\n",
       "36. 'M09.X'\n",
       "37. 'M09.Y'\n",
       "38. 'M09.Z'\n",
       "39. 'M10.X'\n",
       "40. 'M10.Y'\n",
       "41. 'M10.Z'\n",
       "42. 'M11.X'\n",
       "43. 'M11.Y'\n",
       "44. 'M11.Z'\n",
       "45. 'M12.X'\n",
       "46. 'M12.Y'\n",
       "47. 'M12.Z'\n",
       "48. 'M13.X'\n",
       "49. 'M13.Y'\n",
       "50. 'M13.Z'\n",
       "51. 'M14.X'\n",
       "52. 'M14.Y'\n",
       "53. 'M14.Z'\n",
       "54. 'M15.X'\n",
       "55. 'M15.Y'\n",
       "56. 'M15.Z'\n",
       "57. 'M16.X'\n",
       "58. 'M16.Y'\n",
       "59. 'M16.Z'\n",
       "60. 'M17.X'\n",
       "61. 'M17.Y'\n",
       "62. 'M17.Z'\n",
       "63. 'M18.X'\n",
       "64. 'M18.Y'\n",
       "65. 'M18.Z'\n",
       "66. 'M19.X'\n",
       "67. 'M19.Y'\n",
       "68. 'M19.Z'\n",
       "69. 'M20.X'\n",
       "70. 'M20.Y'\n",
       "71. 'M20.Z'\n",
       "72. 'M21.X'\n",
       "73. 'M21.Y'\n",
       "74. 'M21.Z'\n",
       "75. 'M22.X'\n",
       "76. 'M22.Y'\n",
       "77. 'M22.Z'\n",
       "78. 'M23.X'\n",
       "79. 'M23.Y'\n",
       "80. 'M23.Z'\n",
       "81. 'M24.X'\n",
       "82. 'M24.Y'\n",
       "83. 'M24.Z'\n",
       "84. 'M25.X'\n",
       "85. 'M25.Y'\n",
       "86. 'M25.Z'\n",
       "87. 'M26.X'\n",
       "88. 'M26.Y'\n",
       "89. 'M26.Z'\n",
       "90. 'M27.X'\n",
       "91. 'M27.Y'\n",
       "92. 'M27.Z'\n",
       "93. 'M28.X'\n",
       "94. 'M28.Y'\n",
       "95. 'M28.Z'\n",
       "96. 'M29.X'\n",
       "97. 'M29.Y'\n",
       "98. 'M29.Z'\n",
       "99. 'M30.X'\n",
       "100. 'M30.Y'\n",
       "101. 'M30.Z'\n",
       "102. 'M31.X'\n",
       "103. 'M31.Y'\n",
       "104. 'M31.Z'\n",
       "105. 'M32.X'\n",
       "106. 'M32.Y'\n",
       "107. 'M32.Z'\n",
       "108. 'M33.X'\n",
       "109. 'M33.Y'\n",
       "110. 'M33.Z'\n",
       "111. 'M34.X'\n",
       "112. 'M34.Y'\n",
       "113. 'M34.Z'\n",
       "114. 'M35.X'\n",
       "115. 'M35.Y'\n",
       "116. 'M35.Z'\n",
       "117. 'M36.X'\n",
       "118. 'M36.Y'\n",
       "119. 'M36.Z'\n",
       "120. 'M37.X'\n",
       "121. 'M37.Y'\n",
       "122. 'M37.Z'\n",
       "123. 'M38.X'\n",
       "124. 'M38.Y'\n",
       "125. 'M38.Z'\n",
       "126. 'M39.X'\n",
       "127. 'M39.Y'\n",
       "128. 'M39.Z'\n",
       "129. 'M40.X'\n",
       "130. 'M40.Y'\n",
       "131. 'M40.Z'\n",
       "132. 'M41.X'\n",
       "133. 'M41.Y'\n",
       "134. 'M41.Z'\n",
       "135. 'M42.X'\n",
       "136. 'M42.Y'\n",
       "137. 'M42.Z'\n",
       "138. 'M43.X'\n",
       "139. 'M43.Y'\n",
       "140. 'M43.Z'\n",
       "141. 'M44.X'\n",
       "142. 'M44.Y'\n",
       "143. 'M44.Z'\n",
       "144. 'M45.X'\n",
       "145. 'M45.Y'\n",
       "146. 'M45.Z'\n",
       "147. 'M46.X'\n",
       "148. 'M46.Y'\n",
       "149. 'M46.Z'\n",
       "150. 'M47.X'\n",
       "151. 'M47.Y'\n",
       "152. 'M47.Z'\n",
       "153. 'M48.X'\n",
       "154. 'M48.Y'\n",
       "155. 'M48.Z'\n",
       "156. 'M49.X'\n",
       "157. 'M49.Y'\n",
       "158. 'M49.Z'\n",
       "159. 'M50.X'\n",
       "160. 'M50.Y'\n",
       "161. 'M50.Z'\n",
       "162. 'M51.X'\n",
       "163. 'M51.Y'\n",
       "164. 'M51.Z'\n",
       "165. 'M52.X'\n",
       "166. 'M52.Y'\n",
       "167. 'M52.Z'\n",
       "168. 'M53.X'\n",
       "169. 'M53.Y'\n",
       "170. 'M53.Z'\n",
       "171. 'M54.X'\n",
       "172. 'M54.Y'\n",
       "173. 'M54.Z'\n",
       "174. 'M55.X'\n",
       "175. 'M55.Y'\n",
       "176. 'M55.Z'\n",
       "177. 'M56.X'\n",
       "178. 'M56.Y'\n",
       "179. 'M56.Z'\n",
       "180. 'L01.X'\n",
       "181. 'L01.Y'\n",
       "182. 'L01.Z'\n",
       "183. 'L02.X'\n",
       "184. 'L02.Y'\n",
       "185. 'L02.Z'\n",
       "186. 'L03.X'\n",
       "187. 'L03.Y'\n",
       "188. 'L03.Z'\n",
       "\n",
       "\n"
      ],
      "text/plain": [
       "  [1] \"Frame\" \"Time\"  \"A01.X\" \"A01.Y\" \"A01.Z\" \"A02.X\" \"A02.Y\" \"A02.Z\" \"A03.X\"\n",
       " [10] \"A03.Y\" \"A03.Z\" \"M01.X\" \"M01.Y\" \"M01.Z\" \"M02.X\" \"M02.Y\" \"M02.Z\" \"M03.X\"\n",
       " [19] \"M03.Y\" \"M03.Z\" \"M04.X\" \"M04.Y\" \"M04.Z\" \"M05.X\" \"M05.Y\" \"M05.Z\" \"M06.X\"\n",
       " [28] \"M06.Y\" \"M06.Z\" \"M07.X\" \"M07.Y\" \"M07.Z\" \"M08.X\" \"M08.Y\" \"M08.Z\" \"M09.X\"\n",
       " [37] \"M09.Y\" \"M09.Z\" \"M10.X\" \"M10.Y\" \"M10.Z\" \"M11.X\" \"M11.Y\" \"M11.Z\" \"M12.X\"\n",
       " [46] \"M12.Y\" \"M12.Z\" \"M13.X\" \"M13.Y\" \"M13.Z\" \"M14.X\" \"M14.Y\" \"M14.Z\" \"M15.X\"\n",
       " [55] \"M15.Y\" \"M15.Z\" \"M16.X\" \"M16.Y\" \"M16.Z\" \"M17.X\" \"M17.Y\" \"M17.Z\" \"M18.X\"\n",
       " [64] \"M18.Y\" \"M18.Z\" \"M19.X\" \"M19.Y\" \"M19.Z\" \"M20.X\" \"M20.Y\" \"M20.Z\" \"M21.X\"\n",
       " [73] \"M21.Y\" \"M21.Z\" \"M22.X\" \"M22.Y\" \"M22.Z\" \"M23.X\" \"M23.Y\" \"M23.Z\" \"M24.X\"\n",
       " [82] \"M24.Y\" \"M24.Z\" \"M25.X\" \"M25.Y\" \"M25.Z\" \"M26.X\" \"M26.Y\" \"M26.Z\" \"M27.X\"\n",
       " [91] \"M27.Y\" \"M27.Z\" \"M28.X\" \"M28.Y\" \"M28.Z\" \"M29.X\" \"M29.Y\" \"M29.Z\" \"M30.X\"\n",
       "[100] \"M30.Y\" \"M30.Z\" \"M31.X\" \"M31.Y\" \"M31.Z\" \"M32.X\" \"M32.Y\" \"M32.Z\" \"M33.X\"\n",
       "[109] \"M33.Y\" \"M33.Z\" \"M34.X\" \"M34.Y\" \"M34.Z\" \"M35.X\" \"M35.Y\" \"M35.Z\" \"M36.X\"\n",
       "[118] \"M36.Y\" \"M36.Z\" \"M37.X\" \"M37.Y\" \"M37.Z\" \"M38.X\" \"M38.Y\" \"M38.Z\" \"M39.X\"\n",
       "[127] \"M39.Y\" \"M39.Z\" \"M40.X\" \"M40.Y\" \"M40.Z\" \"M41.X\" \"M41.Y\" \"M41.Z\" \"M42.X\"\n",
       "[136] \"M42.Y\" \"M42.Z\" \"M43.X\" \"M43.Y\" \"M43.Z\" \"M44.X\" \"M44.Y\" \"M44.Z\" \"M45.X\"\n",
       "[145] \"M45.Y\" \"M45.Z\" \"M46.X\" \"M46.Y\" \"M46.Z\" \"M47.X\" \"M47.Y\" \"M47.Z\" \"M48.X\"\n",
       "[154] \"M48.Y\" \"M48.Z\" \"M49.X\" \"M49.Y\" \"M49.Z\" \"M50.X\" \"M50.Y\" \"M50.Z\" \"M51.X\"\n",
       "[163] \"M51.Y\" \"M51.Z\" \"M52.X\" \"M52.Y\" \"M52.Z\" \"M53.X\" \"M53.Y\" \"M53.Z\" \"M54.X\"\n",
       "[172] \"M54.Y\" \"M54.Z\" \"M55.X\" \"M55.Y\" \"M55.Z\" \"M56.X\" \"M56.Y\" \"M56.Z\" \"L01.X\"\n",
       "[181] \"L01.Y\" \"L01.Z\" \"L02.X\" \"L02.Y\" \"L02.Z\" \"L03.X\" \"L03.Y\" \"L03.Z\""
      ]
     },
     "metadata": {},
     "output_type": "display_data"
    }
   ],
   "source": [
    "names(dataBH3)"
   ]
  },
  {
   "cell_type": "code",
   "execution_count": 7,
   "metadata": {
    "vscode": {
     "languageId": "r"
    }
   },
   "outputs": [
    {
     "data": {
      "image/png": "[encoded data removed]",
      "text/plain": [
       "plot without title"
      ]
     },
     "metadata": {
      "image/png": {
       "height": 420,
       "width": 420
      }
     },
     "output_type": "display_data"
    }
   ],
   "source": [
    "ggplot(dataBH3) +\n",
    "  geom_line(aes(x = Time, y = L03.X, color = \"L03\"), linewidth = 0.10) +\n",
    "  geom_line(aes(x = Time, y = M28.X, color = \"M28\"), linewidth = 0.15) +\n",
    "  geom_line(aes(x = Time, y = A01.X, color = \"A01\"), linewidth = 0.20) +\n",
    "  labs(x = \"t (s)\", y = \"x (mm)\", title = \"Série temporal das cordenadas x dos alvos A01, M28 e L03\")"
   ]
  },
  {
   "cell_type": "code",
   "execution_count": 8,
   "metadata": {
    "vscode": {
     "languageId": "r"
    }
   },
   "outputs": [
    {
     "data": {
      "image/png": "[encoded data removed]",
      "text/plain": [
       "plot without title"
      ]
     },
     "metadata": {
      "image/png": {
       "height": 420,
       "width": 420
      }
     },
     "output_type": "display_data"
    }
   ],
   "source": [
    "ggplot(dataBH3) +\n",
    "  geom_line(aes(x = Time, y = L03.Y, color = \"L03\"), linewidth = 0.10) +\n",
    "  geom_line(aes(x = Time, y = M28.Y, color = \"M28\"), linewidth = 0.15) +\n",
    "  geom_line(aes(x = Time, y = A01.Y, color = \"A01\"), linewidth = 0.20) +\n",
    "  labs(x = \"t (s)\", y = \"y (mm)\", title = \"Série temporal das cordenadas y dos alvos A01, M28 e L03\")"
   ]
  },
  {
   "cell_type": "code",
   "execution_count": 9,
   "metadata": {
    "vscode": {
     "languageId": "r"
    }
   },
   "outputs": [
    {
     "data": {
      "image/png": "[encoded data removed]",
      "text/plain": [
       "plot without title"
      ]
     },
     "metadata": {
      "image/png": {
       "height": 420,
       "width": 420
      }
     },
     "output_type": "display_data"
    }
   ],
   "source": [
    "ggplot(dataBH3) +\n",
    "  geom_line(aes(x = Time, y = L03.Z, color = \"L03\"), linewidth = 0.10) +\n",
    "  geom_line(aes(x = Time, y = M28.Z, color = \"M28\"), linewidth = 0.15) +\n",
    "  geom_line(aes(x = Time, y = A01.Z, color = \"A01\"), linewidth = 0.20) +\n",
    "  labs(x = \"t (s)\", y = \"z (mm)\", title = \"Série temporal das cordenadas z dos alvos A01, M28 e L03\")"
   ]
  },
  {
   "attachments": {},
   "cell_type": "markdown",
   "metadata": {},
   "source": [
    "# Parte 1"
   ]
  },
  {
   "cell_type": "markdown",
   "metadata": {},
   "source": [
    "Conjunto de treino simples (sem validação cruzada)."
   ]
  },
  {
   "cell_type": "code",
   "execution_count": 10,
   "metadata": {
    "vscode": {
     "languageId": "r"
    }
   },
   "outputs": [],
   "source": [
    "n.t = 50000\n",
    "TrainingSet = 1:n.t"
   ]
  },
  {
   "cell_type": "code",
   "execution_count": 11,
   "metadata": {
    "vscode": {
     "languageId": "r"
    }
   },
   "outputs": [],
   "source": [
    "x.t <- as.matrix(cbind(dataBH3[TrainingSet[-n.t], !colnames(dataBH3) %in% c(\"Frame\", \"Time\")], dataBH3[TrainingSet[-1], !colnames(dataBH3) %in% c(\"Frame\", \"Time\")]))\n",
    "y.t <- dataBH3[TrainingSet[-n.t] + frames.forward, \"L03.Y\"]"
   ]
  },
  {
   "attachments": {},
   "cell_type": "markdown",
   "metadata": {},
   "source": [
    "## a. Regressão Linear Multivariada (MLR)"
   ]
  },
  {
   "cell_type": "code",
   "execution_count": 12,
   "metadata": {
    "vscode": {
     "languageId": "r"
    }
   },
   "outputs": [],
   "source": [
    "L03.Y.r <- lm(y.t ~ x.t)"
   ]
  },
  {
   "cell_type": "code",
   "execution_count": 13,
   "metadata": {
    "vscode": {
     "languageId": "r"
    }
   },
   "outputs": [],
   "source": [
    "coef <- summary(L03.Y.r)$coefficients[, \"Estimate\"]\n",
    "\n",
    "L03.Y.p <- as.matrix(cbind(dataBH3[1:(nrow(dataBH3) - frames.forward), !colnames(dataBH3) %in% c(\"Frame\", \"Time\")], dataBH3[1:(nrow(dataBH3) - frames.forward) + 1L, !colnames(dataBH3) %in% c(\"Frame\", \"Time\")]))%*%coef[-1] + coef[1]\n",
    "L03.Y.e <- (dataBH3[(1 + frames.forward):nrow(dataBH3), \"L03.Y\"] - L03.Y.p)"
   ]
  },
  {
   "cell_type": "code",
   "execution_count": 14,
   "metadata": {
    "vscode": {
     "languageId": "r"
    }
   },
   "outputs": [
    {
     "data": {
      "image/png": "[encoded data removed]",
      "text/plain": [
       "plot without title"
      ]
     },
     "metadata": {
      "image/png": {
       "height": 420,
       "width": 420
      }
     },
     "output_type": "display_data"
    }
   ],
   "source": [
    "ggplot() +\n",
    "   geom_line(aes(x = dataBH3$Time[TrainingSet], y = dataBH3[TrainingSet, \"L03.Y\"], color = \"Dados de treino\"), linewidth = 0.15) +\n",
    "   geom_line(aes(x = dataBH3$Time[-TrainingSet], y = dataBH3[-TrainingSet, \"L03.Y\"], color = \"Dados de teste\"), linewidth = 0.12) +\n",
    "   geom_line(aes(x = dataBH3$Time[(1 + frames.forward):nrow(dataBH3)], y = L03.Y.p, color = \"Modelo\"), linewidth = 0.10) +\n",
    "   labs(x = \"t (s)\", y = \"y (mm)\", title = \"Série temporal das coordenadas reais vs. preditas do alvo L03\")"
   ]
  },
  {
   "cell_type": "code",
   "execution_count": 15,
   "metadata": {
    "vscode": {
     "languageId": "r"
    }
   },
   "outputs": [
    {
     "data": {
      "image/png": "[encoded data removed]",
      "text/plain": [
       "plot without title"
      ]
     },
     "metadata": {
      "image/png": {
       "height": 420,
       "width": 420
      }
     },
     "output_type": "display_data"
    }
   ],
   "source": [
    "ggplot() +\n",
    "  geom_line(aes(x = dataBH3$Time[TrainingSet + frames.forward], y = L03.Y.e[TrainingSet], color = \"Training set\"), linewidth = 0.10) +\n",
    "  geom_line(aes(x = dataBH3$Time[(n.t + 1 + frames.forward):nrow(dataBH3)], y = L03.Y.e[-TrainingSet], color = \"Test set\"), linewidth = 0.10) +\n",
    "  labs(x = \"t (s)\", y = \"e (mm)\", title = \"Série temporal do erro de predição da coordenada y do alvo L03\")"
   ]
  },
  {
   "attachments": {},
   "cell_type": "markdown",
   "metadata": {},
   "source": [
    "Nota-se que o erro apresenta 7 picos, de ordem de grandeza muito superior àquela do erro médio. Infere-se que esses picos coincidem com os instantes em que se fornece estímulos externos, impactos ao sistema. É natural e esperado que o modelo não seja capaz de prever a coordenada y do alvo refletivo L03 aceitavelmente nesses instantes, pois os impactos não foram incorporados na modelagem feita, a qual utiliza informações decorrentes dos instantes $n$ e $n+1$, como posição e velocidade.\n",
    "\n",
    "Para além dos 7 picos, a ordem de grandeza do erro, no geral, é cerca de poucos milímetros, o que se considera um resultado apreciável."
   ]
  },
  {
   "attachments": {},
   "cell_type": "markdown",
   "metadata": {},
   "source": [
    "## b. Método recursivo de mínimos quadrados (RLS)"
   ]
  },
  {
   "attachments": {},
   "cell_type": "markdown",
   "metadata": {},
   "source": [
    "1. $z_{k+1} \\gets P_{k} \\phi(x^{(k+1)})$\n",
    "2. $\\gamma_{k+1} \\gets \\frac{1}{\\phi(x^{(k+1)})^* z_{k+1} + \\sigma_{k+1}^2}$\n",
    "3. $\\theta_{k+1} \\gets \\theta_{k} + \\gamma_{k+1} \\big( {y^{(k+1)} -  \\phi(x^{(k+1)})^* \\theta_k } \\big) z_{k+1}$\n",
    "4. $P_{k+1} \\gets P_{k} - \\gamma_{k+1} z_{k+1} z_{k+1}^*$"
   ]
  },
  {
   "cell_type": "code",
   "execution_count": 16,
   "metadata": {
    "vscode": {
     "languageId": "r"
    }
   },
   "outputs": [],
   "source": [
    "phi <- cbind(matrix(1L, nrow = nrow(x.t)), x.t)\n",
    "P0 <- diag(ncol(x.t) + 1) # m×m\n",
    "theta0 <- matrix(1e-2L, nrow = ncol(x.t) + 1) # m"
   ]
  },
  {
   "cell_type": "code",
   "execution_count": 17,
   "metadata": {
    "vscode": {
     "languageId": "r"
    }
   },
   "outputs": [],
   "source": [
    "z <- P0%*%phi[1,]\n",
    "gamma <- 1/(t(phi[1,])%*%z + 1)[1]\n",
    "theta <- theta0 + gamma*(y.t[1] - t(phi[1,])%*%theta0)[1]*z\n",
    "P <- P0 - gamma*z%*%t(z)\n",
    "\n",
    "for (k in 1:(n.t - 2)) {\n",
    "  z <- P%*%phi[k + 1,]\n",
    "  gamma <- 1/(t(phi[k + 1,])%*%z + 1)[1]\n",
    "  theta <- theta + gamma*(y.t[k + 1] - t(phi[k + 1,])%*%theta)[1]*z\n",
    "  P <- P - gamma*z%*%t(z)\n",
    "}\n",
    "\n",
    "rm(phi, P0, theta0, z, gamma, P)"
   ]
  },
  {
   "cell_type": "code",
   "execution_count": 18,
   "metadata": {
    "vscode": {
     "languageId": "r"
    }
   },
   "outputs": [],
   "source": [
    "L03.Y.p <- as.matrix(cbind(dataBH3[1:(nrow(dataBH3) - frames.forward), !colnames(dataBH3) %in% c(\"Frame\", \"Time\")], dataBH3[1:(nrow(dataBH3) - frames.forward) + 1, !colnames(dataBH3) %in% c(\"Frame\", \"Time\")]))%*%theta[-1] + theta[1]\n",
    "L03.Y.e <- (dataBH3[(1 + frames.forward):nrow(dataBH3), \"L03.Y\"] - L03.Y.p)"
   ]
  },
  {
   "cell_type": "code",
   "execution_count": 19,
   "metadata": {
    "vscode": {
     "languageId": "r"
    }
   },
   "outputs": [
    {
     "data": {
      "image/png": "[encoded data removed]",
      "text/plain": [
       "plot without title"
      ]
     },
     "metadata": {
      "image/png": {
       "height": 420,
       "width": 420
      }
     },
     "output_type": "display_data"
    }
   ],
   "source": [
    "ggplot() +\n",
    "   geom_line(aes(x = dataBH3$Time[TrainingSet], y = dataBH3[TrainingSet, \"L03.Y\"], color = \"Dados de Treino\"), linewidth = 0.15) +\n",
    "   geom_line(aes(x = dataBH3$Time[-TrainingSet], y = dataBH3[-TrainingSet, \"L03.Y\"], color = \"Dados de teste\"), linewidth = 0.12) +\n",
    "   geom_line(aes(x = dataBH3$Time[(1 + frames.forward):nrow(dataBH3)], y = L03.Y.p, color = \"Modelo\"), linewidth = 0.10) +\n",
    "   labs(x = \"t (s)\", y = \"y (mm)\", title = \"Série temporal das coordenadas reais vs. preditas do alvo L03\")"
   ]
  },
  {
   "cell_type": "code",
   "execution_count": 20,
   "metadata": {
    "vscode": {
     "languageId": "r"
    }
   },
   "outputs": [
    {
     "data": {
      "image/png": "[encoded data removed]",
      "text/plain": [
       "plot without title"
      ]
     },
     "metadata": {
      "image/png": {
       "height": 420,
       "width": 420
      }
     },
     "output_type": "display_data"
    }
   ],
   "source": [
    "ggplot() +\n",
    "  geom_line(aes(x = dataBH3$Time[TrainingSet + frames.forward], y = L03.Y.e[TrainingSet], color = \"Training set\"), linewidth = 0.10) +\n",
    "  geom_line(aes(x = dataBH3$Time[(n.t + 1 + frames.forward):nrow(dataBH3)], y = L03.Y.e[-TrainingSet], color = \"Test set\"), linewidth = 0.10) +\n",
    "  labs(x = \"t (s)\", y = \"e (mm)\", title = \"Série temporal do erro de predição da coordenada y do alvo L03\")"
   ]
  },
  {
   "attachments": {},
   "cell_type": "markdown",
   "metadata": {},
   "source": [
    "Analogamente ao item a.: o erro apresenta 7 picos, de ordem de grandeza muito superior àquela do erro médio. Infere-se que esses picos coincidem com os instantes em que se fornece estímulos externos, impactos ao sistema. É natural e esperado que o modelo não seja capaz de prever a coordenada y do alvo refletivo L03 aceitavelmente nesses instantes, pois os impactos não foram incorporados na modelagem feita, a qual utiliza informações decorrentes dos instantes $n$ e $n+1$, como posição e velocidade.\n",
    "\n",
    "Para além dos 7 picos, a ordem de grandeza do erro, no geral, é cerca de poucos milímetros, o que se considera um resultado apreciável."
   ]
  },
  {
   "cell_type": "code",
   "execution_count": 21,
   "metadata": {
    "vscode": {
     "languageId": "r"
    }
   },
   "outputs": [
    {
     "data": {
      "text/html": [
       "<table class=\"dataframe\">\n",
       "<caption>A matrix: 6 × 2 of type dbl</caption>\n",
       "<thead>\n",
       "\t<tr><th></th><th scope=col>MLR</th><th scope=col>RLS</th></tr>\n",
       "</thead>\n",
       "<tbody>\n",
       "\t<tr><th scope=row>(Intercept)</th><td>-1.309705e+03</td><td> 0.008329324</td></tr>\n",
       "\t<tr><th scope=row>x.tA01.X</th><td>-4.266303e-01</td><td>-0.411316325</td></tr>\n",
       "\t<tr><th scope=row>x.tA01.Y</th><td> 3.505316e-02</td><td>-0.015762368</td></tr>\n",
       "\t<tr><th scope=row>x.tA01.Z</th><td>-3.619487e-01</td><td>-0.282309667</td></tr>\n",
       "\t<tr><th scope=row>x.tA02.X</th><td> 4.472529e-01</td><td> 0.444140561</td></tr>\n",
       "\t<tr><th scope=row>x.tA02.Y</th><td> 3.159419e-01</td><td> 0.309058925</td></tr>\n",
       "</tbody>\n",
       "</table>\n"
      ],
      "text/latex": [
       "A matrix: 6 × 2 of type dbl\n",
       "\\begin{tabular}{r|ll}\n",
       "  & MLR & RLS\\\\\n",
       "\\hline\n",
       "\t(Intercept) & -1.309705e+03 &  0.008329324\\\\\n",
       "\tx.tA01.X & -4.266303e-01 & -0.411316325\\\\\n",
       "\tx.tA01.Y &  3.505316e-02 & -0.015762368\\\\\n",
       "\tx.tA01.Z & -3.619487e-01 & -0.282309667\\\\\n",
       "\tx.tA02.X &  4.472529e-01 &  0.444140561\\\\\n",
       "\tx.tA02.Y &  3.159419e-01 &  0.309058925\\\\\n",
       "\\end{tabular}\n"
      ],
      "text/markdown": [
       "\n",
       "A matrix: 6 × 2 of type dbl\n",
       "\n",
       "| <!--/--> | MLR | RLS |\n",
       "|---|---|---|\n",
       "| (Intercept) | -1.309705e+03 |  0.008329324 |\n",
       "| x.tA01.X | -4.266303e-01 | -0.411316325 |\n",
       "| x.tA01.Y |  3.505316e-02 | -0.015762368 |\n",
       "| x.tA01.Z | -3.619487e-01 | -0.282309667 |\n",
       "| x.tA02.X |  4.472529e-01 |  0.444140561 |\n",
       "| x.tA02.Y |  3.159419e-01 |  0.309058925 |\n",
       "\n"
      ],
      "text/plain": [
       "            MLR           RLS         \n",
       "(Intercept) -1.309705e+03  0.008329324\n",
       "x.tA01.X    -4.266303e-01 -0.411316325\n",
       "x.tA01.Y     3.505316e-02 -0.015762368\n",
       "x.tA01.Z    -3.619487e-01 -0.282309667\n",
       "x.tA02.X     4.472529e-01  0.444140561\n",
       "x.tA02.Y     3.159419e-01  0.309058925"
      ]
     },
     "metadata": {},
     "output_type": "display_data"
    }
   ],
   "source": [
    "coefs <- cbind(coef, theta)\n",
    "colnames(coefs) <- c(\"MLR\", \"RLS\")\n",
    "\n",
    "head(coefs)"
   ]
  },
  {
   "cell_type": "code",
   "execution_count": 22,
   "metadata": {
    "vscode": {
     "languageId": "r"
    }
   },
   "outputs": [],
   "source": [
    "rm(coefs)"
   ]
  },
  {
   "attachments": {},
   "cell_type": "markdown",
   "metadata": {},
   "source": [
    "Constata-se diferença mínima entre os coeficientes advindos dos métodos MLR e RLS."
   ]
  },
  {
   "attachments": {},
   "cell_type": "markdown",
   "metadata": {},
   "source": [
    "# Parte 2"
   ]
  },
  {
   "cell_type": "markdown",
   "metadata": {},
   "source": [
    "Normalização dos dados:"
   ]
  },
  {
   "cell_type": "code",
   "execution_count": 23,
   "metadata": {
    "vscode": {
     "languageId": "r"
    }
   },
   "outputs": [],
   "source": [
    "ColRange <- grep(\"X|Y|Z\", names(dataBH3))\n",
    "A. <- max(abs(dataBH3$L03.Y - mean(dataBH3$L03.Y)))\n",
    "mean_vec <- c()\n",
    "\n",
    "for (col in ColRange){\n",
    "  m. <- mean(dataBH3[, col])\n",
    "  dataBH3[,col] <- ((dataBH3[, col] - m.)/A.)\n",
    "  mean_vec <- c(mean_vec, m.)\n",
    "}\n",
    "\n",
    "rm(ColRange, A., m.)"
   ]
  },
  {
   "cell_type": "markdown",
   "metadata": {},
   "source": [
    "Subconjuntos para validação cruzada:"
   ]
  },
  {
   "cell_type": "code",
   "execution_count": 24,
   "metadata": {
    "vscode": {
     "languageId": "r"
    }
   },
   "outputs": [],
   "source": [
    "subsets <- list(3000:27000, 33000:57000, 63000:87000, 93000:117000, 123000:147000, 153000:177000, 183000:207000)"
   ]
  },
  {
   "cell_type": "code",
   "execution_count": 25,
   "metadata": {
    "vscode": {
     "languageId": "r"
    }
   },
   "outputs": [],
   "source": [
    "subsets.all <- c(subsets[[1]], subsets[[2]], subsets[[3]], subsets[[4]], subsets[[5]], subsets[[6]], subsets[[7]])"
   ]
  },
  {
   "cell_type": "code",
   "execution_count": 26,
   "metadata": {
    "vscode": {
     "languageId": "r"
    }
   },
   "outputs": [
    {
     "data": {
      "image/png": "[encoded data removed]",
      "text/plain": [
       "plot without title"
      ]
     },
     "metadata": {
      "image/png": {
       "height": 420,
       "width": 420
      }
     },
     "output_type": "display_data"
    }
   ],
   "source": [
    "ggplot() + \n",
    "  geom_line(aes(x = dataBH3$Time, y = dataBH3$L03.Y, color = \"dataBH3\"), linewidth = 0.05) + \n",
    "  geom_line(aes(x = dataBH3$Time[subsets.all], y = dataBH3$L03.Y[subsets.all], color = \"set 1\"), linewidth = 0.08) +\n",
    "  labs(x = \"t (s)\", y = \"y\", title = \"Time series of nondimensional y coordinate of target L03\")"
   ]
  },
  {
   "cell_type": "markdown",
   "metadata": {},
   "source": [
    "$\\mu$ máximo a ser avaliado:"
   ]
  },
  {
   "cell_type": "code",
   "execution_count": 27,
   "metadata": {
    "vscode": {
     "languageId": "r"
    }
   },
   "outputs": [],
   "source": [
    "mu.max <- 10"
   ]
  },
  {
   "attachments": {},
   "cell_type": "markdown",
   "metadata": {},
   "source": [
    "## Parte I: PCR"
   ]
  },
  {
   "cell_type": "code",
   "execution_count": 28,
   "metadata": {
    "vscode": {
     "languageId": "r"
    }
   },
   "outputs": [],
   "source": [
    "MSEs <- matrix(, nrow = 0, ncol = 7)\n",
    "for (mu in 1:mu.max) {\n",
    "  MSEs.mu <- c()\n",
    "  for (i in 1:7) {\n",
    "    TrSet <- subsets.all[!subsets.all %in% subsets[[i]]]\n",
    "    TsSet <- subsets[[i]]\n",
    "\n",
    "    Ut <- as.matrix(cbind(dataBH3[TrSet, !colnames(dataBH3) %in% c(\"Frame\", \"Time\")], dataBH3[TrSet + 1, !colnames(dataBH3) %in% c(\"Frame\", \"Time\")]))\n",
    "    K <- (t(Ut)%*%Ut)/length(TrSet)\n",
    "    rm(Ut)\n",
    "    evp.K <- eigen(K)\n",
    "\n",
    "    ROM.PCA.L03.Y <- lm(dataBH3[TsSet + frames.forward, \"L03.Y\"] ~ as.matrix(cbind(dataBH3[TsSet, !colnames(dataBH3) %in% c(\"Frame\", \"Time\")], dataBH3[TsSet + 1, !colnames(dataBH3) %in% c(\"Frame\", \"Time\")]))%*%as.matrix(evp.K$vectors[, 1:mu]))\n",
    "\n",
    "    MSE <- mean((dataBH3[TsSet + frames.forward, \"L03.Y\"] - predict(ROM.PCA.L03.Y))^2)\n",
    "\n",
    "    MSEs.mu <- c(MSEs.mu, MSE)\n",
    "  }\n",
    "  MSEs <- rbind(MSEs, t(MSEs.mu))\n",
    "}"
   ]
  },
  {
   "cell_type": "code",
   "execution_count": 29,
   "metadata": {
    "vscode": {
     "languageId": "r"
    }
   },
   "outputs": [
    {
     "data": {
      "image/png": "[encoded data removed]",
      "text/plain": [
       "plot without title"
      ]
     },
     "metadata": {
      "image/png": {
       "height": 420,
       "width": 420
      }
     },
     "output_type": "display_data"
    }
   ],
   "source": [
    "ggplot() + \n",
    "  geom_line(aes(x = 1:7, y = MSEs[1,], color = \"mu = 01\"), linewidth = 0.5) +\n",
    "  geom_line(aes(x = 1:7, y = MSEs[2,], color = \"mu = 02\"), linewidth = 0.5) +\n",
    "  geom_line(aes(x = 1:7, y = MSEs[3,], color = \"mu = 03\"), linewidth = 0.5) +\n",
    "  geom_line(aes(x = 1:7, y = MSEs[4,], color = \"mu = 04\"), linewidth = 0.5) +\n",
    "  geom_line(aes(x = 1:7, y = MSEs[5,], color = \"mu = 05\"), linewidth = 0.5) +\n",
    "  geom_line(aes(x = 1:7, y = MSEs[6,], color = \"mu = 06\"), linewidth = 0.5) +\n",
    "  geom_line(aes(x = 1:7, y = MSEs[7,], color = \"mu = 07\"), linewidth = 0.5) +\n",
    "  geom_line(aes(x = 1:7, y = MSEs[8,], color = \"mu = 08\"), linewidth = 0.5) +\n",
    "  geom_line(aes(x = 1:7, y = MSEs[9,], color = \"mu = 09\"), linewidth = 0.5) +\n",
    "  geom_line(aes(x = 1:7, y = MSEs[10,], color = \"mu = 10\"), linewidth = 0.5) +\n",
    "  labs(x = \"Conjunto de teste na validação cruzada\", y = \"MSE\", title = \"Erro quadrático médio por conjunto de teste\")"
   ]
  },
  {
   "cell_type": "code",
   "execution_count": 30,
   "metadata": {
    "vscode": {
     "languageId": "r"
    }
   },
   "outputs": [
    {
     "data": {
      "image/png": "[encoded data removed]",
      "text/plain": [
       "plot without title"
      ]
     },
     "metadata": {
      "image/png": {
       "height": 420,
       "width": 420
      }
     },
     "output_type": "display_data"
    }
   ],
   "source": [
    "ggplot() + \n",
    "  geom_line(aes(x = 1:10, y = rowMeans(MSEs)), linewidth = 0.5) +\n",
    "  labs(x = \"mu\", y = \"MSE médio\", title = \"Erro quadrático médio por quantidade de variáveis latentes\")"
   ]
  },
  {
   "cell_type": "markdown",
   "metadata": {},
   "source": [
    "Constata-se que o $\\mu$ ótimo é $4$, uma vez que para $\\mu \\geq 4$, tem se uma média dos MSEs aproximadamente estacionária."
   ]
  },
  {
   "cell_type": "code",
   "execution_count": 31,
   "metadata": {
    "vscode": {
     "languageId": "r"
    }
   },
   "outputs": [],
   "source": [
    "l.eb <- c(1.8751, 4.69409, 7.85476, 10.9955, 14.1372)\n",
    "EulerBernoulli <- function(i, s){\n",
    "  cosh(s*l.eb[i]) - cos(s*l.eb[i]) - (sinh(l.eb[i]) - sin(l.eb[i])) / (cosh(l.eb[i]) + cos(l.eb[i])) * (sinh(s*l.eb[i]) - sin(s*l.eb[i]))\n",
    "}"
   ]
  },
  {
   "attachments": {},
   "cell_type": "markdown",
   "metadata": {},
   "source": [
    "## Parte II: PLSR"
   ]
  },
  {
   "cell_type": "code",
   "execution_count": 32,
   "metadata": {
    "vscode": {
     "languageId": "r"
    }
   },
   "outputs": [],
   "source": [
    "MSEs <- matrix(, nrow = mu.max, ncol = 0)\n",
    "for (i in 1:7) {\n",
    "  TrSet <- subsets.all[!subsets.all %in% subsets[[i]]]\n",
    "  TsSet <- subsets[[i]]\n",
    "\n",
    "  Ut <- as.matrix(cbind(dataBH3[TrSet, !colnames(dataBH3) %in% c(\"Frame\", \"Time\")], dataBH3[TrSet + 1, !colnames(dataBH3) %in% c(\"Frame\", \"Time\")]))\n",
    "  St <- as.matrix(dataBH3[TrSet + frames.forward, !colnames(dataBH3) %in% c(\"Frame\", \"Time\")])\n",
    "  K <- (t(Ut)%*%Ut)/length(TrSet)\n",
    "  C <- (t(Ut)%*%St)/length(TrSet)\n",
    "  rm(Ut, St)\n",
    "  R_0 <- sum(diag(K))\n",
    "\n",
    "  m <- dim(C)[1]\n",
    "  l <- dim(C)[2]\n",
    "  P <- matrix(nrow = m, ncol = mu.max)\n",
    "  Q <- matrix(nrow = l, ncol = mu.max)\n",
    "  V_1 <- matrix(nrow = m, ncol = mu.max)\n",
    "  kp <- vector(length = mu.max)\n",
    "\n",
    "  for (k in 1:mu.max){\n",
    "    V_1[,k] <- svd(C)$u[,1]\n",
    "    g <- 1 / (V_1[,k] %*% K %*% V_1[,k])\n",
    "    P[,k] <- g[1] * K %*% V_1[,k]\n",
    "    Q[,k] <- g[1] * t(C) %*% V_1[,k]\n",
    "    K[,] <- K[,] - P[,k] %*% t(V_1[,k]) %*% K[,]\n",
    "    C[,] <- C[,] - P[,k] %*% t(V_1[,k]) %*% C[,]\n",
    "    kp[k] <- sum(diag(K))/R_0\n",
    "  }\n",
    "\n",
    "  U <- t(as.matrix(cbind(dataBH3[TsSet, !colnames(dataBH3) %in% c(\"Frame\", \"Time\")], dataBH3[TsSet + 1, !colnames(dataBH3) %in% c(\"Frame\", \"Time\")])))\n",
    "  S <- t(as.matrix(dataBH3[TsSet + frames.forward, !colnames(dataBH3) %in% c(\"Frame\", \"Time\")]))\n",
    "  Z <- matrix(nrow = mu.max, ncol = length(TsSet))\n",
    "\n",
    "  ROM.myPLSR.L03.Y <- S[l,]\n",
    "  MSE <- mean((ROM.myPLSR.L03.Y)^2)\n",
    "  MSEs.tsSet <- c(MSE)\n",
    "\n",
    "  for (k in 1:(mu.max - 1)) {\n",
    "    Z[k,] <- t(V_1[,k]) %*% U\n",
    "    U[,] <- U[,] - P[,k] %*% t(Z[k,])\n",
    "    S[,] <- S[,] - Q[,k] %*% t(Z[k,])\n",
    "    ROM.myPLSR.L03.Y <- S[l,]\n",
    "    MSE <- mean((ROM.myPLSR.L03.Y)^2)\n",
    "    MSEs.tsSet <- c(MSEs.tsSet, MSE)\n",
    "  }\n",
    "\n",
    "  MSEs <- cbind(MSEs, MSEs.tsSet)\n",
    "}"
   ]
  },
  {
   "cell_type": "code",
   "execution_count": 33,
   "metadata": {
    "vscode": {
     "languageId": "r"
    }
   },
   "outputs": [
    {
     "data": {
      "image/png": "[encoded data removed]",
      "text/plain": [
       "plot without title"
      ]
     },
     "metadata": {
      "image/png": {
       "height": 420,
       "width": 420
      }
     },
     "output_type": "display_data"
    }
   ],
   "source": [
    "ggplot() + \n",
    "  geom_line(aes(x = 1:7, y = MSEs[1,], color = \"mu = 01\"), linewidth = 0.5) +\n",
    "  geom_line(aes(x = 1:7, y = MSEs[2,], color = \"mu = 02\"), linewidth = 0.5) +\n",
    "  geom_line(aes(x = 1:7, y = MSEs[3,], color = \"mu = 03\"), linewidth = 0.5) +\n",
    "  geom_line(aes(x = 1:7, y = MSEs[4,], color = \"mu = 04\"), linewidth = 0.5) +\n",
    "  geom_line(aes(x = 1:7, y = MSEs[5,], color = \"mu = 05\"), linewidth = 0.5) +\n",
    "  geom_line(aes(x = 1:7, y = MSEs[6,], color = \"mu = 06\"), linewidth = 0.5) +\n",
    "  geom_line(aes(x = 1:7, y = MSEs[7,], color = \"mu = 07\"), linewidth = 0.5) +\n",
    "  geom_line(aes(x = 1:7, y = MSEs[8,], color = \"mu = 08\"), linewidth = 0.5) +\n",
    "  geom_line(aes(x = 1:7, y = MSEs[9,], color = \"mu = 09\"), linewidth = 0.5) +\n",
    "  geom_line(aes(x = 1:7, y = MSEs[10,], color = \"mu = 10\"), linewidth = 0.5) +\n",
    "  labs(x = \"Conjunto de teste na validação cruzada\", y = \"MSE\", title = \"Erro quadrático médio por conjunto de teste\")"
   ]
  },
  {
   "cell_type": "code",
   "execution_count": 34,
   "metadata": {
    "vscode": {
     "languageId": "r"
    }
   },
   "outputs": [
    {
     "data": {
      "image/png": "[encoded data removed]",
      "text/plain": [
       "plot without title"
      ]
     },
     "metadata": {
      "image/png": {
       "height": 420,
       "width": 420
      }
     },
     "output_type": "display_data"
    }
   ],
   "source": [
    "ggplot() + \n",
    "  geom_line(aes(x = 1:10, y = rowMeans(MSEs)), linewidth = 0.5) +\n",
    "  labs(x = \"mu\", y = \"MSE médio\", title = \"Erro quadrático médio por quantidade de variáveis latentes\")"
   ]
  },
  {
   "cell_type": "markdown",
   "metadata": {},
   "source": [
    "Constata-se que o $\\mu$ ótimo é $5$, uma vez que para $\\mu \\geq 5$, tem se uma média dos MSEs aproximadamente estacionária."
   ]
  },
  {
   "cell_type": "markdown",
   "metadata": {},
   "source": [
    "Pelos resultados, conseguiu-se um modelo com menor MSE médio, ao longo da validação cruzada, pelo método de PLSR."
   ]
  }
 ],
 "metadata": {
  "kernelspec": {
   "display_name": "R",
   "language": "R",
   "name": "ir"
  },
  "language_info": {
   "codemirror_mode": "r",
   "file_extension": ".r",
   "mimetype": "text/x-r-source",
   "name": "R",
   "pygments_lexer": "r",
   "version": "4.1.3"
  },
  "orig_nbformat": 4
 },
 "nbformat": 4,
 "nbformat_minor": 2
}
